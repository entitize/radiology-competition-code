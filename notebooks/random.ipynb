{
 "cells": [
  {
   "cell_type": "code",
   "execution_count": 2,
   "metadata": {},
   "outputs": [],
   "source": [
    "import pandas as pd\n",
    "import numpy as np"
   ]
  },
  {
   "cell_type": "code",
   "execution_count": 2,
   "metadata": {},
   "outputs": [
    {
     "ename": "SyntaxError",
     "evalue": "invalid syntax (helper.py, line 118)",
     "output_type": "error",
     "traceback": [
      "Traceback \u001b[0;36m(most recent call last)\u001b[0m:\n",
      "  File \u001b[1;32m\"/Users/skynet/opt/anaconda3/envs/ott/lib/python3.7/site-packages/IPython/core/interactiveshell.py\"\u001b[0m, line \u001b[1;32m3524\u001b[0m, in \u001b[1;35mrun_code\u001b[0m\n    exec(code_obj, self.user_global_ns, self.user_ns)\n",
      "\u001b[0;36m  File \u001b[0;32m\"/var/folders/0q/k98mfx4152j1dyxrmvlq6n_00000gn/T/ipykernel_33197/913563125.py\"\u001b[0;36m, line \u001b[0;32m5\u001b[0;36m, in \u001b[0;35m<module>\u001b[0;36m\u001b[0m\n\u001b[0;31m    from helpers import helper\u001b[0m\n",
      "\u001b[0;36m  File \u001b[0;32m\"../helpers/helper.py\"\u001b[0;36m, line \u001b[0;32m118\u001b[0m\n\u001b[0;31m    self.train_df[disease] = self.train_df[disease].apply(lambda x: if x is np.nan: np.random.uniform(min_val, max_val))\u001b[0m\n\u001b[0m                                                                     ^\u001b[0m\n\u001b[0;31mSyntaxError\u001b[0m\u001b[0;31m:\u001b[0m invalid syntax\n"
     ]
    }
   ],
   "source": [
    "import pandas as pd\n",
    "import sys\n",
    "import argparse\n",
    "sys.path.append('../')\n",
    "from helpers import helper\n",
    "import tensorflow.keras as K"
   ]
  },
  {
   "cell_type": "code",
   "execution_count": 3,
   "metadata": {},
   "outputs": [
    {
     "name": "stdout",
     "output_type": "stream",
     "text": [
      "Using all training/validation samples\n",
      "Using all test samples\n"
     ]
    }
   ],
   "source": [
    "parser = argparse.ArgumentParser()\n",
    "helper.add_base_parser_args(parser)\n",
    "args = parser.parse_args(\"--batch_size 32 --epochs 10 --learning_rate 0.001 --num_workers 1\".split())\n",
    "h = helper.DataHelper(args)"
   ]
  },
  {
   "cell_type": "code",
   "execution_count": 5,
   "metadata": {},
   "outputs": [],
   "source": [
    "h.fill_dataset_nan_with_mean()"
   ]
  },
  {
   "cell_type": "code",
   "execution_count": 7,
   "metadata": {},
   "outputs": [
    {
     "name": "stdout",
     "output_type": "stream",
     "text": [
      "Found 159 validated image filenames.\n",
      "Found 40 validated image filenames.\n",
      "Found 50 validated image filenames.\n"
     ]
    }
   ],
   "source": [
    "train_gen, valid_gen, test_gen = h.get_basic_generator((224, 224))"
   ]
  },
  {
   "cell_type": "code",
   "execution_count": 9,
   "metadata": {},
   "outputs": [],
   "source": [
    "x, y = train_gen.next()"
   ]
  },
  {
   "cell_type": "code",
   "execution_count": 14,
   "metadata": {},
   "outputs": [
    {
     "data": {
      "text/plain": [
       "((32, 224, 224, 3), (32, 14))"
      ]
     },
     "execution_count": 14,
     "metadata": {},
     "output_type": "execute_result"
    }
   ],
   "source": [
    "x.shape, y.shape"
   ]
  },
  {
   "cell_type": "code",
   "execution_count": 20,
   "metadata": {},
   "outputs": [
    {
     "data": {
      "text/plain": [
       "array([[[ 15.,  15.,  15.],\n",
       "        [ 16.,  16.,  16.],\n",
       "        [ 15.,  15.,  15.],\n",
       "        ...,\n",
       "        [ 11.,  11.,  11.],\n",
       "        [ 13.,  13.,  13.],\n",
       "        [ 16.,  16.,  16.]],\n",
       "\n",
       "       [[ 15.,  15.,  15.],\n",
       "        [ 14.,  14.,  14.],\n",
       "        [ 15.,  15.,  15.],\n",
       "        ...,\n",
       "        [ 11.,  11.,  11.],\n",
       "        [ 13.,  13.,  13.],\n",
       "        [ 15.,  15.,  15.]],\n",
       "\n",
       "       [[  0.,   0.,   0.],\n",
       "        [ 11.,  11.,  11.],\n",
       "        [ 13.,  13.,  13.],\n",
       "        ...,\n",
       "        [ 11.,  11.,  11.],\n",
       "        [ 11.,  11.,  11.],\n",
       "        [ 14.,  14.,  14.]],\n",
       "\n",
       "       ...,\n",
       "\n",
       "       [[189., 189., 189.],\n",
       "        [175., 175., 175.],\n",
       "        [196., 196., 196.],\n",
       "        ...,\n",
       "        [  0.,   0.,   0.],\n",
       "        [  0.,   0.,   0.],\n",
       "        [  0.,   0.,   0.]],\n",
       "\n",
       "       [[189., 189., 189.],\n",
       "        [167., 167., 167.],\n",
       "        [179., 179., 179.],\n",
       "        ...,\n",
       "        [  0.,   0.,   0.],\n",
       "        [  0.,   0.,   0.],\n",
       "        [  0.,   0.,   0.]],\n",
       "\n",
       "       [[203., 203., 203.],\n",
       "        [175., 175., 175.],\n",
       "        [178., 178., 178.],\n",
       "        ...,\n",
       "        [  0.,   0.,   0.],\n",
       "        [  0.,   0.,   0.],\n",
       "        [  0.,   0.,   0.]]], dtype=float32)"
      ]
     },
     "execution_count": 20,
     "metadata": {},
     "output_type": "execute_result"
    }
   ],
   "source": [
    "x[0]"
   ]
  },
  {
   "cell_type": "code",
   "execution_count": 19,
   "metadata": {},
   "outputs": [
    {
     "data": {
      "text/plain": [
       "array([-1.        , -0.15625   ,  0.23255814,  1.        ,  0.75      ,\n",
       "        0.47058824,  0.        ,  0.11111111,  0.60714286, -0.49056604,\n",
       "        1.        ,  0.4       ,  0.71428571,  0.88888889])"
      ]
     },
     "execution_count": 19,
     "metadata": {},
     "output_type": "execute_result"
    }
   ],
   "source": [
    "y[0]"
   ]
  },
  {
   "cell_type": "code",
   "execution_count": 5,
   "metadata": {},
   "outputs": [],
   "source": [
    "# Generate a random dataframes with some nans\n",
    "random_df = pd.DataFrame(np.random.rand(100, 10))\n",
    "random_df.iloc[0, 0] = np.nan\n",
    "random_df.iloc[0, 1] = np.nan\n",
    "random_df.iloc[0, 2] = np.nan\n",
    "random_df.iloc[1, 1] = np.nan\n",
    "random_df.iloc[2, 2] = np.nan\n",
    "random_df.iloc[3, 3] = np.nan\n",
    "random_df.head()"
   ]
  },
  {
   "cell_type": "code",
   "execution_count": 7,
   "metadata": {},
   "outputs": [
    {
     "ename": "ValueError",
     "evalue": "invalid fill value with a <class 'numpy.ndarray'>",
     "output_type": "error",
     "traceback": [
      "\u001b[0;31m---------------------------------------------------------------------------\u001b[0m",
      "\u001b[0;31mValueError\u001b[0m                                Traceback (most recent call last)",
      "\u001b[1;32m/Users/skynet/Projects/unemployed_pony_spuds/notebooks/random.ipynb Cell 11'\u001b[0m in \u001b[0;36m<cell line: 2>\u001b[0;34m()\u001b[0m\n\u001b[1;32m      <a href='vscode-notebook-cell:/Users/skynet/Projects/unemployed_pony_spuds/notebooks/random.ipynb#ch0000010?line=0'>1</a>\u001b[0m \u001b[39m# replace Nan with random between -1 and 1\u001b[39;00m\n\u001b[0;32m----> <a href='vscode-notebook-cell:/Users/skynet/Projects/unemployed_pony_spuds/notebooks/random.ipynb#ch0000010?line=1'>2</a>\u001b[0m random_df\u001b[39m.\u001b[39;49mfillna(np\u001b[39m.\u001b[39;49mrandom\u001b[39m.\u001b[39;49mrandint(\u001b[39m-\u001b[39;49m\u001b[39m1\u001b[39;49m, \u001b[39m1\u001b[39;49m, size\u001b[39m=\u001b[39;49mrandom_df\u001b[39m.\u001b[39;49mshape), inplace\u001b[39m=\u001b[39;49m\u001b[39mTrue\u001b[39;49;00m)\n",
      "File \u001b[0;32m~/miniforge3/envs/ez/lib/python3.9/site-packages/pandas/util/_decorators.py:311\u001b[0m, in \u001b[0;36mdeprecate_nonkeyword_arguments.<locals>.decorate.<locals>.wrapper\u001b[0;34m(*args, **kwargs)\u001b[0m\n\u001b[1;32m    <a href='file:///Users/skynet/miniforge3/envs/ez/lib/python3.9/site-packages/pandas/util/_decorators.py?line=304'>305</a>\u001b[0m \u001b[39mif\u001b[39;00m \u001b[39mlen\u001b[39m(args) \u001b[39m>\u001b[39m num_allow_args:\n\u001b[1;32m    <a href='file:///Users/skynet/miniforge3/envs/ez/lib/python3.9/site-packages/pandas/util/_decorators.py?line=305'>306</a>\u001b[0m     warnings\u001b[39m.\u001b[39mwarn(\n\u001b[1;32m    <a href='file:///Users/skynet/miniforge3/envs/ez/lib/python3.9/site-packages/pandas/util/_decorators.py?line=306'>307</a>\u001b[0m         msg\u001b[39m.\u001b[39mformat(arguments\u001b[39m=\u001b[39marguments),\n\u001b[1;32m    <a href='file:///Users/skynet/miniforge3/envs/ez/lib/python3.9/site-packages/pandas/util/_decorators.py?line=307'>308</a>\u001b[0m         \u001b[39mFutureWarning\u001b[39;00m,\n\u001b[1;32m    <a href='file:///Users/skynet/miniforge3/envs/ez/lib/python3.9/site-packages/pandas/util/_decorators.py?line=308'>309</a>\u001b[0m         stacklevel\u001b[39m=\u001b[39mstacklevel,\n\u001b[1;32m    <a href='file:///Users/skynet/miniforge3/envs/ez/lib/python3.9/site-packages/pandas/util/_decorators.py?line=309'>310</a>\u001b[0m     )\n\u001b[0;32m--> <a href='file:///Users/skynet/miniforge3/envs/ez/lib/python3.9/site-packages/pandas/util/_decorators.py?line=310'>311</a>\u001b[0m \u001b[39mreturn\u001b[39;00m func(\u001b[39m*\u001b[39;49margs, \u001b[39m*\u001b[39;49m\u001b[39m*\u001b[39;49mkwargs)\n",
      "File \u001b[0;32m~/miniforge3/envs/ez/lib/python3.9/site-packages/pandas/core/frame.py:5220\u001b[0m, in \u001b[0;36mDataFrame.fillna\u001b[0;34m(self, value, method, axis, inplace, limit, downcast)\u001b[0m\n\u001b[1;32m   <a href='file:///Users/skynet/miniforge3/envs/ez/lib/python3.9/site-packages/pandas/core/frame.py?line=5208'>5209</a>\u001b[0m \u001b[39m@deprecate_nonkeyword_arguments\u001b[39m(version\u001b[39m=\u001b[39m\u001b[39mNone\u001b[39;00m, allowed_args\u001b[39m=\u001b[39m[\u001b[39m\"\u001b[39m\u001b[39mself\u001b[39m\u001b[39m\"\u001b[39m, \u001b[39m\"\u001b[39m\u001b[39mvalue\u001b[39m\u001b[39m\"\u001b[39m])\n\u001b[1;32m   <a href='file:///Users/skynet/miniforge3/envs/ez/lib/python3.9/site-packages/pandas/core/frame.py?line=5209'>5210</a>\u001b[0m \u001b[39m@doc\u001b[39m(NDFrame\u001b[39m.\u001b[39mfillna, \u001b[39m*\u001b[39m\u001b[39m*\u001b[39m_shared_doc_kwargs)\n\u001b[1;32m   <a href='file:///Users/skynet/miniforge3/envs/ez/lib/python3.9/site-packages/pandas/core/frame.py?line=5210'>5211</a>\u001b[0m \u001b[39mdef\u001b[39;00m \u001b[39mfillna\u001b[39m(\n\u001b[0;32m   (...)\u001b[0m\n\u001b[1;32m   <a href='file:///Users/skynet/miniforge3/envs/ez/lib/python3.9/site-packages/pandas/core/frame.py?line=5217'>5218</a>\u001b[0m     downcast\u001b[39m=\u001b[39m\u001b[39mNone\u001b[39;00m,\n\u001b[1;32m   <a href='file:///Users/skynet/miniforge3/envs/ez/lib/python3.9/site-packages/pandas/core/frame.py?line=5218'>5219</a>\u001b[0m ) \u001b[39m-\u001b[39m\u001b[39m>\u001b[39m DataFrame \u001b[39m|\u001b[39m \u001b[39mNone\u001b[39;00m:\n\u001b[0;32m-> <a href='file:///Users/skynet/miniforge3/envs/ez/lib/python3.9/site-packages/pandas/core/frame.py?line=5219'>5220</a>\u001b[0m     \u001b[39mreturn\u001b[39;00m \u001b[39msuper\u001b[39;49m()\u001b[39m.\u001b[39;49mfillna(\n\u001b[1;32m   <a href='file:///Users/skynet/miniforge3/envs/ez/lib/python3.9/site-packages/pandas/core/frame.py?line=5220'>5221</a>\u001b[0m         value\u001b[39m=\u001b[39;49mvalue,\n\u001b[1;32m   <a href='file:///Users/skynet/miniforge3/envs/ez/lib/python3.9/site-packages/pandas/core/frame.py?line=5221'>5222</a>\u001b[0m         method\u001b[39m=\u001b[39;49mmethod,\n\u001b[1;32m   <a href='file:///Users/skynet/miniforge3/envs/ez/lib/python3.9/site-packages/pandas/core/frame.py?line=5222'>5223</a>\u001b[0m         axis\u001b[39m=\u001b[39;49maxis,\n\u001b[1;32m   <a href='file:///Users/skynet/miniforge3/envs/ez/lib/python3.9/site-packages/pandas/core/frame.py?line=5223'>5224</a>\u001b[0m         inplace\u001b[39m=\u001b[39;49minplace,\n\u001b[1;32m   <a href='file:///Users/skynet/miniforge3/envs/ez/lib/python3.9/site-packages/pandas/core/frame.py?line=5224'>5225</a>\u001b[0m         limit\u001b[39m=\u001b[39;49mlimit,\n\u001b[1;32m   <a href='file:///Users/skynet/miniforge3/envs/ez/lib/python3.9/site-packages/pandas/core/frame.py?line=5225'>5226</a>\u001b[0m         downcast\u001b[39m=\u001b[39;49mdowncast,\n\u001b[1;32m   <a href='file:///Users/skynet/miniforge3/envs/ez/lib/python3.9/site-packages/pandas/core/frame.py?line=5226'>5227</a>\u001b[0m     )\n",
      "File \u001b[0;32m~/miniforge3/envs/ez/lib/python3.9/site-packages/pandas/core/generic.py:6503\u001b[0m, in \u001b[0;36mNDFrame.fillna\u001b[0;34m(self, value, method, axis, inplace, limit, downcast)\u001b[0m\n\u001b[1;32m   <a href='file:///Users/skynet/miniforge3/envs/ez/lib/python3.9/site-packages/pandas/core/generic.py?line=6500'>6501</a>\u001b[0m         new_data \u001b[39m=\u001b[39m \u001b[39mself\u001b[39m\u001b[39m.\u001b[39mwhere(\u001b[39mself\u001b[39m\u001b[39m.\u001b[39mnotna(), value)\u001b[39m.\u001b[39m_mgr\n\u001b[1;32m   <a href='file:///Users/skynet/miniforge3/envs/ez/lib/python3.9/site-packages/pandas/core/generic.py?line=6501'>6502</a>\u001b[0m     \u001b[39melse\u001b[39;00m:\n\u001b[0;32m-> <a href='file:///Users/skynet/miniforge3/envs/ez/lib/python3.9/site-packages/pandas/core/generic.py?line=6502'>6503</a>\u001b[0m         \u001b[39mraise\u001b[39;00m \u001b[39mValueError\u001b[39;00m(\u001b[39mf\u001b[39m\u001b[39m\"\u001b[39m\u001b[39minvalid fill value with a \u001b[39m\u001b[39m{\u001b[39;00m\u001b[39mtype\u001b[39m(value)\u001b[39m}\u001b[39;00m\u001b[39m\"\u001b[39m)\n\u001b[1;32m   <a href='file:///Users/skynet/miniforge3/envs/ez/lib/python3.9/site-packages/pandas/core/generic.py?line=6504'>6505</a>\u001b[0m result \u001b[39m=\u001b[39m \u001b[39mself\u001b[39m\u001b[39m.\u001b[39m_constructor(new_data)\n\u001b[1;32m   <a href='file:///Users/skynet/miniforge3/envs/ez/lib/python3.9/site-packages/pandas/core/generic.py?line=6505'>6506</a>\u001b[0m \u001b[39mif\u001b[39;00m inplace:\n",
      "\u001b[0;31mValueError\u001b[0m: invalid fill value with a <class 'numpy.ndarray'>"
     ]
    }
   ],
   "source": [
    "# replace Nan with random between -1 and 1\n",
    "for col in random_df.columns:\n",
    "    random_df[col] = random_df[col].apply(lambda x: np.random.randint(-1, 1) if np.isnan(x) else x)"
   ]
  },
  {
   "cell_type": "code",
   "execution_count": null,
   "metadata": {},
   "outputs": [],
   "source": []
  }
 ],
 "metadata": {
  "interpreter": {
   "hash": "23ec6801a8471ee4ab4bfdc26b4be763d76ed53444b9150cfcc6dd061eda6cbe"
  },
  "kernelspec": {
   "display_name": "Python 3.9.12 ('ez')",
   "language": "python",
   "name": "python3"
  },
  "language_info": {
   "codemirror_mode": {
    "name": "ipython",
    "version": 3
   },
   "file_extension": ".py",
   "mimetype": "text/x-python",
   "name": "python",
   "nbconvert_exporter": "python",
   "pygments_lexer": "ipython3",
   "version": "3.9.12"
  },
  "orig_nbformat": 4
 },
 "nbformat": 4,
 "nbformat_minor": 2
}
